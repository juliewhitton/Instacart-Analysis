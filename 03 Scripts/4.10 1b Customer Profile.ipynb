{
 "cells": [
  {
   "cell_type": "markdown",
   "id": "ed87766c",
   "metadata": {},
   "source": [
    "# 4.10 Task Part 2: Customer Profile and Visualizations "
   ]
  },
  {
   "cell_type": "markdown",
   "id": "7ad9007c",
   "metadata": {},
   "source": [
    "## Table of Contents\n",
    "\n",
    "01. Import Libraries\n",
    "\n",
    "02. Import Data and Adjust Datatypes\n",
    "\n",
    "03. Create Additional Columns for Profiling\n",
    "\n",
    "04. Create a DF for Unique Customer ID Profiling\n",
    "\n",
    "05. Export Visualizations and DFs"
   ]
  },
  {
   "cell_type": "markdown",
   "id": "b89753dc",
   "metadata": {},
   "source": [
    "## 01. Import Libraries"
   ]
  },
  {
   "cell_type": "code",
   "execution_count": 2,
   "id": "754ad22d",
   "metadata": {},
   "outputs": [],
   "source": [
    "#import libraries\n",
    "import pandas as pd\n",
    "import numpy as np\n",
    "import os\n",
    "import seaborn as sns\n",
    "import matplotlib.pyplot as plt\n",
    "import scipy"
   ]
  },
  {
   "cell_type": "markdown",
   "id": "174faef4",
   "metadata": {},
   "source": [
    "## 02. Import Data and Adjust Datatypes"
   ]
  },
  {
   "cell_type": "code",
   "execution_count": 3,
   "id": "2937d1f1",
   "metadata": {},
   "outputs": [],
   "source": [
    "#create path\n",
    "path = r'/Users/juliewhitton/Desktop/Instacart Basket Analysis/'"
   ]
  },
  {
   "cell_type": "code",
   "execution_count": 4,
   "id": "b8db9d53",
   "metadata": {},
   "outputs": [],
   "source": [
    "#import latest dataset\n",
    "df = pd.read_pickle(os.path.join(path, '02 Data', 'Prepared Data', 'full_set_with_flags.pkl'))"
   ]
  },
  {
   "cell_type": "code",
   "execution_count": 5,
   "id": "d4f942e7",
   "metadata": {},
   "outputs": [
    {
     "data": {
      "text/html": [
       "<div>\n",
       "<style scoped>\n",
       "    .dataframe tbody tr th:only-of-type {\n",
       "        vertical-align: middle;\n",
       "    }\n",
       "\n",
       "    .dataframe tbody tr th {\n",
       "        vertical-align: top;\n",
       "    }\n",
       "\n",
       "    .dataframe thead th {\n",
       "        text-align: right;\n",
       "    }\n",
       "</style>\n",
       "<table border=\"1\" class=\"dataframe\">\n",
       "  <thead>\n",
       "    <tr style=\"text-align: right;\">\n",
       "      <th></th>\n",
       "      <th>order_id</th>\n",
       "      <th>user_id</th>\n",
       "      <th>order_number</th>\n",
       "      <th>order_day_of_week</th>\n",
       "      <th>time_of_order</th>\n",
       "      <th>days_since_prior_order</th>\n",
       "      <th>product_id</th>\n",
       "      <th>add_to_cart_order</th>\n",
       "      <th>reordered</th>\n",
       "      <th>product_name</th>\n",
       "      <th>...</th>\n",
       "      <th>family_status</th>\n",
       "      <th>income</th>\n",
       "      <th>region</th>\n",
       "      <th>activity_flag</th>\n",
       "      <th>age_category</th>\n",
       "      <th>income_category</th>\n",
       "      <th>department</th>\n",
       "      <th>pet_owner</th>\n",
       "      <th>has_babies</th>\n",
       "      <th>has_kids</th>\n",
       "    </tr>\n",
       "  </thead>\n",
       "  <tbody>\n",
       "    <tr>\n",
       "      <th>0</th>\n",
       "      <td>2539329</td>\n",
       "      <td>1</td>\n",
       "      <td>1</td>\n",
       "      <td>2</td>\n",
       "      <td>8</td>\n",
       "      <td>NaN</td>\n",
       "      <td>196</td>\n",
       "      <td>1</td>\n",
       "      <td>0</td>\n",
       "      <td>Soda</td>\n",
       "      <td>...</td>\n",
       "      <td>married</td>\n",
       "      <td>40423</td>\n",
       "      <td>South</td>\n",
       "      <td>High-activity Customer</td>\n",
       "      <td>Young Adult</td>\n",
       "      <td>Low income</td>\n",
       "      <td>beverages</td>\n",
       "      <td>No</td>\n",
       "      <td>No</td>\n",
       "      <td>Yes</td>\n",
       "    </tr>\n",
       "    <tr>\n",
       "      <th>1</th>\n",
       "      <td>2398795</td>\n",
       "      <td>1</td>\n",
       "      <td>2</td>\n",
       "      <td>3</td>\n",
       "      <td>7</td>\n",
       "      <td>15.0</td>\n",
       "      <td>196</td>\n",
       "      <td>1</td>\n",
       "      <td>1</td>\n",
       "      <td>Soda</td>\n",
       "      <td>...</td>\n",
       "      <td>married</td>\n",
       "      <td>40423</td>\n",
       "      <td>South</td>\n",
       "      <td>High-activity Customer</td>\n",
       "      <td>Young Adult</td>\n",
       "      <td>Low income</td>\n",
       "      <td>beverages</td>\n",
       "      <td>No</td>\n",
       "      <td>No</td>\n",
       "      <td>Yes</td>\n",
       "    </tr>\n",
       "    <tr>\n",
       "      <th>2</th>\n",
       "      <td>473747</td>\n",
       "      <td>1</td>\n",
       "      <td>3</td>\n",
       "      <td>3</td>\n",
       "      <td>12</td>\n",
       "      <td>21.0</td>\n",
       "      <td>196</td>\n",
       "      <td>1</td>\n",
       "      <td>1</td>\n",
       "      <td>Soda</td>\n",
       "      <td>...</td>\n",
       "      <td>married</td>\n",
       "      <td>40423</td>\n",
       "      <td>South</td>\n",
       "      <td>High-activity Customer</td>\n",
       "      <td>Young Adult</td>\n",
       "      <td>Low income</td>\n",
       "      <td>beverages</td>\n",
       "      <td>No</td>\n",
       "      <td>No</td>\n",
       "      <td>Yes</td>\n",
       "    </tr>\n",
       "    <tr>\n",
       "      <th>3</th>\n",
       "      <td>2254736</td>\n",
       "      <td>1</td>\n",
       "      <td>4</td>\n",
       "      <td>4</td>\n",
       "      <td>7</td>\n",
       "      <td>29.0</td>\n",
       "      <td>196</td>\n",
       "      <td>1</td>\n",
       "      <td>1</td>\n",
       "      <td>Soda</td>\n",
       "      <td>...</td>\n",
       "      <td>married</td>\n",
       "      <td>40423</td>\n",
       "      <td>South</td>\n",
       "      <td>High-activity Customer</td>\n",
       "      <td>Young Adult</td>\n",
       "      <td>Low income</td>\n",
       "      <td>beverages</td>\n",
       "      <td>No</td>\n",
       "      <td>No</td>\n",
       "      <td>Yes</td>\n",
       "    </tr>\n",
       "    <tr>\n",
       "      <th>4</th>\n",
       "      <td>431534</td>\n",
       "      <td>1</td>\n",
       "      <td>5</td>\n",
       "      <td>4</td>\n",
       "      <td>15</td>\n",
       "      <td>28.0</td>\n",
       "      <td>196</td>\n",
       "      <td>1</td>\n",
       "      <td>1</td>\n",
       "      <td>Soda</td>\n",
       "      <td>...</td>\n",
       "      <td>married</td>\n",
       "      <td>40423</td>\n",
       "      <td>South</td>\n",
       "      <td>High-activity Customer</td>\n",
       "      <td>Young Adult</td>\n",
       "      <td>Low income</td>\n",
       "      <td>beverages</td>\n",
       "      <td>No</td>\n",
       "      <td>No</td>\n",
       "      <td>Yes</td>\n",
       "    </tr>\n",
       "  </tbody>\n",
       "</table>\n",
       "<p>5 rows × 40 columns</p>\n",
       "</div>"
      ],
      "text/plain": [
       "   order_id  user_id  order_number  order_day_of_week  time_of_order  \\\n",
       "0   2539329        1             1                  2              8   \n",
       "1   2398795        1             2                  3              7   \n",
       "2    473747        1             3                  3             12   \n",
       "3   2254736        1             4                  4              7   \n",
       "4    431534        1             5                  4             15   \n",
       "\n",
       "   days_since_prior_order  product_id  add_to_cart_order  reordered  \\\n",
       "0                     NaN         196                  1          0   \n",
       "1                    15.0         196                  1          1   \n",
       "2                    21.0         196                  1          1   \n",
       "3                    29.0         196                  1          1   \n",
       "4                    28.0         196                  1          1   \n",
       "\n",
       "  product_name  ...  family_status  income  region           activity_flag  \\\n",
       "0         Soda  ...        married   40423   South  High-activity Customer   \n",
       "1         Soda  ...        married   40423   South  High-activity Customer   \n",
       "2         Soda  ...        married   40423   South  High-activity Customer   \n",
       "3         Soda  ...        married   40423   South  High-activity Customer   \n",
       "4         Soda  ...        married   40423   South  High-activity Customer   \n",
       "\n",
       "  age_category income_category department  pet_owner has_babies  has_kids  \n",
       "0  Young Adult      Low income  beverages         No         No       Yes  \n",
       "1  Young Adult      Low income  beverages         No         No       Yes  \n",
       "2  Young Adult      Low income  beverages         No         No       Yes  \n",
       "3  Young Adult      Low income  beverages         No         No       Yes  \n",
       "4  Young Adult      Low income  beverages         No         No       Yes  \n",
       "\n",
       "[5 rows x 40 columns]"
      ]
     },
     "execution_count": 5,
     "metadata": {},
     "output_type": "execute_result"
    }
   ],
   "source": [
    "#check import \n",
    "df.head()"
   ]
  },
  {
   "cell_type": "code",
   "execution_count": 6,
   "id": "f4515bcc",
   "metadata": {},
   "outputs": [
    {
     "data": {
      "text/plain": [
       "Index(['order_id', 'user_id', 'order_number', 'order_day_of_week',\n",
       "       'time_of_order', 'days_since_prior_order', 'product_id',\n",
       "       'add_to_cart_order', 'reordered', 'product_name', 'aisle_id',\n",
       "       'department_id', 'prices', 'price_range_loc', 'busiest_day',\n",
       "       'busiest_days', 'busiest_period_of_day', 'max_order', 'loyalty_flag',\n",
       "       'avg_spent', 'spending_flag', 'median_days_since_last_order',\n",
       "       'freq_flag', 'first_name', 'last_name', 'gender', 'state', 'age',\n",
       "       'date_joined', 'number_dependents', 'family_status', 'income', 'region',\n",
       "       'activity_flag', 'age_category', 'income_category', 'department',\n",
       "       'pet_owner', 'has_babies', 'has_kids'],\n",
       "      dtype='object')"
      ]
     },
     "execution_count": 6,
     "metadata": {},
     "output_type": "execute_result"
    }
   ],
   "source": [
    "df.columns"
   ]
  },
  {
   "cell_type": "code",
   "execution_count": 7,
   "id": "75037cc2",
   "metadata": {},
   "outputs": [],
   "source": [
    "#remove unnecessary columns\n",
    "\n",
    "df.drop(['date_joined', 'reordered', 'add_to_cart_order', 'busiest_day',\n",
    "         'busiest_days', 'department_id', 'aisle_id', 'product_name'], axis = 1, inplace = True)"
   ]
  },
  {
   "cell_type": "code",
   "execution_count": 8,
   "id": "1f40ea89",
   "metadata": {},
   "outputs": [
    {
     "data": {
      "text/html": [
       "<div>\n",
       "<style scoped>\n",
       "    .dataframe tbody tr th:only-of-type {\n",
       "        vertical-align: middle;\n",
       "    }\n",
       "\n",
       "    .dataframe tbody tr th {\n",
       "        vertical-align: top;\n",
       "    }\n",
       "\n",
       "    .dataframe thead th {\n",
       "        text-align: right;\n",
       "    }\n",
       "</style>\n",
       "<table border=\"1\" class=\"dataframe\">\n",
       "  <thead>\n",
       "    <tr style=\"text-align: right;\">\n",
       "      <th></th>\n",
       "      <th>order_id</th>\n",
       "      <th>user_id</th>\n",
       "      <th>order_number</th>\n",
       "      <th>order_day_of_week</th>\n",
       "      <th>time_of_order</th>\n",
       "      <th>days_since_prior_order</th>\n",
       "      <th>product_id</th>\n",
       "      <th>prices</th>\n",
       "      <th>price_range_loc</th>\n",
       "      <th>busiest_period_of_day</th>\n",
       "      <th>...</th>\n",
       "      <th>family_status</th>\n",
       "      <th>income</th>\n",
       "      <th>region</th>\n",
       "      <th>activity_flag</th>\n",
       "      <th>age_category</th>\n",
       "      <th>income_category</th>\n",
       "      <th>department</th>\n",
       "      <th>pet_owner</th>\n",
       "      <th>has_babies</th>\n",
       "      <th>has_kids</th>\n",
       "    </tr>\n",
       "  </thead>\n",
       "  <tbody>\n",
       "    <tr>\n",
       "      <th>0</th>\n",
       "      <td>2539329</td>\n",
       "      <td>1</td>\n",
       "      <td>1</td>\n",
       "      <td>2</td>\n",
       "      <td>8</td>\n",
       "      <td>NaN</td>\n",
       "      <td>196</td>\n",
       "      <td>9.0</td>\n",
       "      <td>Mid-range product</td>\n",
       "      <td>Average orders</td>\n",
       "      <td>...</td>\n",
       "      <td>married</td>\n",
       "      <td>40423</td>\n",
       "      <td>South</td>\n",
       "      <td>High-activity Customer</td>\n",
       "      <td>Young Adult</td>\n",
       "      <td>Low income</td>\n",
       "      <td>beverages</td>\n",
       "      <td>No</td>\n",
       "      <td>No</td>\n",
       "      <td>Yes</td>\n",
       "    </tr>\n",
       "    <tr>\n",
       "      <th>1</th>\n",
       "      <td>2398795</td>\n",
       "      <td>1</td>\n",
       "      <td>2</td>\n",
       "      <td>3</td>\n",
       "      <td>7</td>\n",
       "      <td>15.0</td>\n",
       "      <td>196</td>\n",
       "      <td>9.0</td>\n",
       "      <td>Mid-range product</td>\n",
       "      <td>Average orders</td>\n",
       "      <td>...</td>\n",
       "      <td>married</td>\n",
       "      <td>40423</td>\n",
       "      <td>South</td>\n",
       "      <td>High-activity Customer</td>\n",
       "      <td>Young Adult</td>\n",
       "      <td>Low income</td>\n",
       "      <td>beverages</td>\n",
       "      <td>No</td>\n",
       "      <td>No</td>\n",
       "      <td>Yes</td>\n",
       "    </tr>\n",
       "    <tr>\n",
       "      <th>2</th>\n",
       "      <td>473747</td>\n",
       "      <td>1</td>\n",
       "      <td>3</td>\n",
       "      <td>3</td>\n",
       "      <td>12</td>\n",
       "      <td>21.0</td>\n",
       "      <td>196</td>\n",
       "      <td>9.0</td>\n",
       "      <td>Mid-range product</td>\n",
       "      <td>Most orders</td>\n",
       "      <td>...</td>\n",
       "      <td>married</td>\n",
       "      <td>40423</td>\n",
       "      <td>South</td>\n",
       "      <td>High-activity Customer</td>\n",
       "      <td>Young Adult</td>\n",
       "      <td>Low income</td>\n",
       "      <td>beverages</td>\n",
       "      <td>No</td>\n",
       "      <td>No</td>\n",
       "      <td>Yes</td>\n",
       "    </tr>\n",
       "    <tr>\n",
       "      <th>3</th>\n",
       "      <td>2254736</td>\n",
       "      <td>1</td>\n",
       "      <td>4</td>\n",
       "      <td>4</td>\n",
       "      <td>7</td>\n",
       "      <td>29.0</td>\n",
       "      <td>196</td>\n",
       "      <td>9.0</td>\n",
       "      <td>Mid-range product</td>\n",
       "      <td>Average orders</td>\n",
       "      <td>...</td>\n",
       "      <td>married</td>\n",
       "      <td>40423</td>\n",
       "      <td>South</td>\n",
       "      <td>High-activity Customer</td>\n",
       "      <td>Young Adult</td>\n",
       "      <td>Low income</td>\n",
       "      <td>beverages</td>\n",
       "      <td>No</td>\n",
       "      <td>No</td>\n",
       "      <td>Yes</td>\n",
       "    </tr>\n",
       "    <tr>\n",
       "      <th>4</th>\n",
       "      <td>431534</td>\n",
       "      <td>1</td>\n",
       "      <td>5</td>\n",
       "      <td>4</td>\n",
       "      <td>15</td>\n",
       "      <td>28.0</td>\n",
       "      <td>196</td>\n",
       "      <td>9.0</td>\n",
       "      <td>Mid-range product</td>\n",
       "      <td>Most orders</td>\n",
       "      <td>...</td>\n",
       "      <td>married</td>\n",
       "      <td>40423</td>\n",
       "      <td>South</td>\n",
       "      <td>High-activity Customer</td>\n",
       "      <td>Young Adult</td>\n",
       "      <td>Low income</td>\n",
       "      <td>beverages</td>\n",
       "      <td>No</td>\n",
       "      <td>No</td>\n",
       "      <td>Yes</td>\n",
       "    </tr>\n",
       "  </tbody>\n",
       "</table>\n",
       "<p>5 rows × 32 columns</p>\n",
       "</div>"
      ],
      "text/plain": [
       "   order_id  user_id  order_number  order_day_of_week  time_of_order  \\\n",
       "0   2539329        1             1                  2              8   \n",
       "1   2398795        1             2                  3              7   \n",
       "2    473747        1             3                  3             12   \n",
       "3   2254736        1             4                  4              7   \n",
       "4    431534        1             5                  4             15   \n",
       "\n",
       "   days_since_prior_order  product_id  prices    price_range_loc  \\\n",
       "0                     NaN         196     9.0  Mid-range product   \n",
       "1                    15.0         196     9.0  Mid-range product   \n",
       "2                    21.0         196     9.0  Mid-range product   \n",
       "3                    29.0         196     9.0  Mid-range product   \n",
       "4                    28.0         196     9.0  Mid-range product   \n",
       "\n",
       "  busiest_period_of_day  ...  family_status income  region  \\\n",
       "0        Average orders  ...        married  40423   South   \n",
       "1        Average orders  ...        married  40423   South   \n",
       "2           Most orders  ...        married  40423   South   \n",
       "3        Average orders  ...        married  40423   South   \n",
       "4           Most orders  ...        married  40423   South   \n",
       "\n",
       "            activity_flag  age_category income_category department pet_owner  \\\n",
       "0  High-activity Customer   Young Adult      Low income  beverages        No   \n",
       "1  High-activity Customer   Young Adult      Low income  beverages        No   \n",
       "2  High-activity Customer   Young Adult      Low income  beverages        No   \n",
       "3  High-activity Customer   Young Adult      Low income  beverages        No   \n",
       "4  High-activity Customer   Young Adult      Low income  beverages        No   \n",
       "\n",
       "  has_babies has_kids  \n",
       "0         No      Yes  \n",
       "1         No      Yes  \n",
       "2         No      Yes  \n",
       "3         No      Yes  \n",
       "4         No      Yes  \n",
       "\n",
       "[5 rows x 32 columns]"
      ]
     },
     "execution_count": 8,
     "metadata": {},
     "output_type": "execute_result"
    }
   ],
   "source": [
    "#check drop\n",
    "\n",
    "df.head()"
   ]
  },
  {
   "cell_type": "markdown",
   "id": "ce774973",
   "metadata": {},
   "source": [
    "## 03. Create Additional Columns for Profiling"
   ]
  },
  {
   "cell_type": "code",
   "execution_count": 9,
   "id": "2c34cc08",
   "metadata": {},
   "outputs": [],
   "source": [
    "#create column for total cost of each order\n",
    "df['order_cost'] = df.groupby('order_id')['prices'].transform('sum')\n"
   ]
  },
  {
   "cell_type": "code",
   "execution_count": 10,
   "id": "107873e8",
   "metadata": {},
   "outputs": [],
   "source": [
    "#create column for total spent/customer\n",
    "df['total_spent'] = df.groupby('user_id')['order_cost'].transform('sum')"
   ]
  },
  {
   "cell_type": "code",
   "execution_count": 11,
   "id": "f572d19b",
   "metadata": {},
   "outputs": [
    {
     "data": {
      "text/html": [
       "<div>\n",
       "<style scoped>\n",
       "    .dataframe tbody tr th:only-of-type {\n",
       "        vertical-align: middle;\n",
       "    }\n",
       "\n",
       "    .dataframe tbody tr th {\n",
       "        vertical-align: top;\n",
       "    }\n",
       "\n",
       "    .dataframe thead th {\n",
       "        text-align: right;\n",
       "    }\n",
       "</style>\n",
       "<table border=\"1\" class=\"dataframe\">\n",
       "  <thead>\n",
       "    <tr style=\"text-align: right;\">\n",
       "      <th></th>\n",
       "      <th>total_spent</th>\n",
       "      <th>order_cost</th>\n",
       "      <th>prices</th>\n",
       "    </tr>\n",
       "  </thead>\n",
       "  <tbody>\n",
       "    <tr>\n",
       "      <th>0</th>\n",
       "      <td>2392.00</td>\n",
       "      <td>31.593750</td>\n",
       "      <td>9.000000</td>\n",
       "    </tr>\n",
       "    <tr>\n",
       "      <th>1</th>\n",
       "      <td>2392.00</td>\n",
       "      <td>35.406250</td>\n",
       "      <td>9.000000</td>\n",
       "    </tr>\n",
       "    <tr>\n",
       "      <th>2</th>\n",
       "      <td>2392.00</td>\n",
       "      <td>28.203125</td>\n",
       "      <td>9.000000</td>\n",
       "    </tr>\n",
       "    <tr>\n",
       "      <th>3</th>\n",
       "      <td>2392.00</td>\n",
       "      <td>26.000000</td>\n",
       "      <td>9.000000</td>\n",
       "    </tr>\n",
       "    <tr>\n",
       "      <th>4</th>\n",
       "      <td>2392.00</td>\n",
       "      <td>57.000000</td>\n",
       "      <td>9.000000</td>\n",
       "    </tr>\n",
       "    <tr>\n",
       "      <th>...</th>\n",
       "      <td>...</td>\n",
       "      <td>...</td>\n",
       "      <td>...</td>\n",
       "    </tr>\n",
       "    <tr>\n",
       "      <th>32404850</th>\n",
       "      <td>278.25</td>\n",
       "      <td>10.703125</td>\n",
       "      <td>10.703125</td>\n",
       "    </tr>\n",
       "    <tr>\n",
       "      <th>32404851</th>\n",
       "      <td>278.25</td>\n",
       "      <td>10.703125</td>\n",
       "      <td>10.703125</td>\n",
       "    </tr>\n",
       "    <tr>\n",
       "      <th>32404852</th>\n",
       "      <td>278.25</td>\n",
       "      <td>10.703125</td>\n",
       "      <td>10.703125</td>\n",
       "    </tr>\n",
       "    <tr>\n",
       "      <th>32404853</th>\n",
       "      <td>278.25</td>\n",
       "      <td>10.703125</td>\n",
       "      <td>10.703125</td>\n",
       "    </tr>\n",
       "    <tr>\n",
       "      <th>32404854</th>\n",
       "      <td>278.25</td>\n",
       "      <td>10.703125</td>\n",
       "      <td>10.703125</td>\n",
       "    </tr>\n",
       "  </tbody>\n",
       "</table>\n",
       "<p>30964564 rows × 3 columns</p>\n",
       "</div>"
      ],
      "text/plain": [
       "          total_spent  order_cost     prices\n",
       "0             2392.00   31.593750   9.000000\n",
       "1             2392.00   35.406250   9.000000\n",
       "2             2392.00   28.203125   9.000000\n",
       "3             2392.00   26.000000   9.000000\n",
       "4             2392.00   57.000000   9.000000\n",
       "...               ...         ...        ...\n",
       "32404850       278.25   10.703125  10.703125\n",
       "32404851       278.25   10.703125  10.703125\n",
       "32404852       278.25   10.703125  10.703125\n",
       "32404853       278.25   10.703125  10.703125\n",
       "32404854       278.25   10.703125  10.703125\n",
       "\n",
       "[30964564 rows x 3 columns]"
      ]
     },
     "execution_count": 11,
     "metadata": {},
     "output_type": "execute_result"
    }
   ],
   "source": [
    "#check new column\n",
    "df.loc[:, ['total_spent', 'order_cost', 'prices']]"
   ]
  },
  {
   "cell_type": "code",
   "execution_count": 12,
   "id": "4baaf763",
   "metadata": {},
   "outputs": [],
   "source": [
    "#create column for average spent per order per customer\n",
    "df['avg_spent_per_order'] = df['total_spent'].div(df['max_order'].values)\n"
   ]
  },
  {
   "cell_type": "code",
   "execution_count": 13,
   "id": "62022ceb",
   "metadata": {},
   "outputs": [],
   "source": [
    "#create order spending flag column\n",
    "df.loc[df['avg_spent_per_order'] < 50, 'spending_flag_ords'] = 'Low-spender'\n",
    "df.loc[(df['avg_spent_per_order'] >= 50) & (df['avg_spent_per_order'] < 200), 'spending_flag_ords'] = 'Regular-spender'\n",
    "df.loc[df['avg_spent_per_order'] >= 200, 'spending_flag_ords'] = 'High-spender'"
   ]
  },
  {
   "cell_type": "code",
   "execution_count": 14,
   "id": "efc6f0a5",
   "metadata": {},
   "outputs": [
    {
     "data": {
      "text/plain": [
       "High-spender       29629544\n",
       "Regular-spender     1168196\n",
       "Low-spender          166824\n",
       "Name: spending_flag_ords, dtype: int64"
      ]
     },
     "execution_count": 14,
     "metadata": {},
     "output_type": "execute_result"
    }
   ],
   "source": [
    "#check value counts of new column\n",
    "df['spending_flag_ords'].value_counts(dropna = False)"
   ]
  },
  {
   "cell_type": "markdown",
   "id": "79369f27",
   "metadata": {},
   "source": [
    "## 04. Create a DF for Unique Customer ID Profiling"
   ]
  },
  {
   "cell_type": "code",
   "execution_count": 15,
   "id": "992cdf01",
   "metadata": {},
   "outputs": [],
   "source": [
    "#import customer subset df\n",
    "\n",
    "df_cust = pd.read_pickle(os.path.join(path, '02 Data', 'Prepared Data', 'cust_unique.pkl'))"
   ]
  },
  {
   "cell_type": "code",
   "execution_count": 16,
   "id": "96e4f180",
   "metadata": {},
   "outputs": [],
   "source": [
    "#order spending_flag_ords col\n",
    "\n",
    "df_ords_flag = df[['user_id', 'spending_flag_ords']].sort_values(by = ['spending_flag_ords'],\n",
    "                                                                ascending = False)"
   ]
  },
  {
   "cell_type": "code",
   "execution_count": 17,
   "id": "796ab045",
   "metadata": {},
   "outputs": [
    {
     "data": {
      "text/plain": [
       "High-spender       137124\n",
       "Regular-spender     19154\n",
       "Low-spender          6353\n",
       "Name: spending_flag_ords, dtype: int64"
      ]
     },
     "execution_count": 17,
     "metadata": {},
     "output_type": "execute_result"
    }
   ],
   "source": [
    "df_ords_flag = df_ords_flag.drop_duplicates(subset = ['user_id'])\n",
    "\n",
    "df_ords_flag['spending_flag_ords'].value_counts(dropna = False)"
   ]
  },
  {
   "cell_type": "code",
   "execution_count": 18,
   "id": "70c99050",
   "metadata": {},
   "outputs": [
    {
     "data": {
      "text/html": [
       "<div>\n",
       "<style scoped>\n",
       "    .dataframe tbody tr th:only-of-type {\n",
       "        vertical-align: middle;\n",
       "    }\n",
       "\n",
       "    .dataframe tbody tr th {\n",
       "        vertical-align: top;\n",
       "    }\n",
       "\n",
       "    .dataframe thead th {\n",
       "        text-align: right;\n",
       "    }\n",
       "</style>\n",
       "<table border=\"1\" class=\"dataframe\">\n",
       "  <thead>\n",
       "    <tr style=\"text-align: right;\">\n",
       "      <th></th>\n",
       "      <th>user_id</th>\n",
       "      <th>pet_owner</th>\n",
       "    </tr>\n",
       "  </thead>\n",
       "  <tbody>\n",
       "    <tr>\n",
       "      <th>903482</th>\n",
       "      <td>158382</td>\n",
       "      <td>Yes</td>\n",
       "    </tr>\n",
       "    <tr>\n",
       "      <th>7834301</th>\n",
       "      <td>80527</td>\n",
       "      <td>Yes</td>\n",
       "    </tr>\n",
       "    <tr>\n",
       "      <th>14704771</th>\n",
       "      <td>182211</td>\n",
       "      <td>Yes</td>\n",
       "    </tr>\n",
       "    <tr>\n",
       "      <th>14704772</th>\n",
       "      <td>182211</td>\n",
       "      <td>Yes</td>\n",
       "    </tr>\n",
       "    <tr>\n",
       "      <th>14704773</th>\n",
       "      <td>182211</td>\n",
       "      <td>Yes</td>\n",
       "    </tr>\n",
       "  </tbody>\n",
       "</table>\n",
       "</div>"
      ],
      "text/plain": [
       "          user_id pet_owner\n",
       "903482     158382       Yes\n",
       "7834301     80527       Yes\n",
       "14704771   182211       Yes\n",
       "14704772   182211       Yes\n",
       "14704773   182211       Yes"
      ]
     },
     "execution_count": 18,
     "metadata": {},
     "output_type": "execute_result"
    }
   ],
   "source": [
    "#order pet_owner column \n",
    "df_pets = df[['user_id', 'pet_owner']].sort_values(by=['pet_owner'], ascending=False)\n",
    "\n",
    "df_pets.head()"
   ]
  },
  {
   "cell_type": "code",
   "execution_count": 19,
   "id": "e646dc80",
   "metadata": {},
   "outputs": [
    {
     "data": {
      "text/plain": [
       "No     149456\n",
       "Yes     13175\n",
       "Name: pet_owner, dtype: int64"
      ]
     },
     "execution_count": 19,
     "metadata": {},
     "output_type": "execute_result"
    }
   ],
   "source": [
    "#update df_pets by user_id\n",
    "df_pets = df_pets.drop_duplicates(subset = ['user_id'])\n",
    "\n",
    "df_pets['pet_owner'].value_counts(dropna = False)"
   ]
  },
  {
   "cell_type": "code",
   "execution_count": 20,
   "id": "ecf34e0b",
   "metadata": {},
   "outputs": [
    {
     "data": {
      "text/html": [
       "<div>\n",
       "<style scoped>\n",
       "    .dataframe tbody tr th:only-of-type {\n",
       "        vertical-align: middle;\n",
       "    }\n",
       "\n",
       "    .dataframe tbody tr th {\n",
       "        vertical-align: top;\n",
       "    }\n",
       "\n",
       "    .dataframe thead th {\n",
       "        text-align: right;\n",
       "    }\n",
       "</style>\n",
       "<table border=\"1\" class=\"dataframe\">\n",
       "  <thead>\n",
       "    <tr style=\"text-align: right;\">\n",
       "      <th></th>\n",
       "      <th>user_id</th>\n",
       "      <th>has_babies</th>\n",
       "    </tr>\n",
       "  </thead>\n",
       "  <tbody>\n",
       "    <tr>\n",
       "      <th>13095832</th>\n",
       "      <td>158226</td>\n",
       "      <td>Yes</td>\n",
       "    </tr>\n",
       "    <tr>\n",
       "      <th>17231297</th>\n",
       "      <td>150299</td>\n",
       "      <td>Yes</td>\n",
       "    </tr>\n",
       "    <tr>\n",
       "      <th>17231309</th>\n",
       "      <td>150299</td>\n",
       "      <td>Yes</td>\n",
       "    </tr>\n",
       "    <tr>\n",
       "      <th>22925058</th>\n",
       "      <td>101236</td>\n",
       "      <td>Yes</td>\n",
       "    </tr>\n",
       "    <tr>\n",
       "      <th>17231305</th>\n",
       "      <td>150299</td>\n",
       "      <td>Yes</td>\n",
       "    </tr>\n",
       "  </tbody>\n",
       "</table>\n",
       "</div>"
      ],
      "text/plain": [
       "          user_id has_babies\n",
       "13095832   158226        Yes\n",
       "17231297   150299        Yes\n",
       "17231309   150299        Yes\n",
       "22925058   101236        Yes\n",
       "17231305   150299        Yes"
      ]
     },
     "execution_count": 20,
     "metadata": {},
     "output_type": "execute_result"
    }
   ],
   "source": [
    "#repeat process for has_babies\n",
    "df_babies = df[['user_id', 'has_babies']].sort_values(by=['has_babies'], ascending=False)\n",
    "\n",
    "df_babies.head()"
   ]
  },
  {
   "cell_type": "code",
   "execution_count": 21,
   "id": "41f9afe0",
   "metadata": {},
   "outputs": [
    {
     "data": {
      "text/plain": [
       "No     139978\n",
       "Yes     22653\n",
       "Name: has_babies, dtype: int64"
      ]
     },
     "execution_count": 21,
     "metadata": {},
     "output_type": "execute_result"
    }
   ],
   "source": [
    "#create df of unique users\n",
    "df_babies = df_babies.drop_duplicates(subset = ['user_id'])\n",
    "\n",
    "#check output\n",
    "df_babies['has_babies'].value_counts(dropna = False)"
   ]
  },
  {
   "cell_type": "code",
   "execution_count": 22,
   "id": "f46f68a4",
   "metadata": {},
   "outputs": [
    {
     "data": {
      "text/html": [
       "<div>\n",
       "<style scoped>\n",
       "    .dataframe tbody tr th:only-of-type {\n",
       "        vertical-align: middle;\n",
       "    }\n",
       "\n",
       "    .dataframe tbody tr th {\n",
       "        vertical-align: top;\n",
       "    }\n",
       "\n",
       "    .dataframe thead th {\n",
       "        text-align: right;\n",
       "    }\n",
       "</style>\n",
       "<table border=\"1\" class=\"dataframe\">\n",
       "  <thead>\n",
       "    <tr style=\"text-align: right;\">\n",
       "      <th></th>\n",
       "      <th>user_id</th>\n",
       "      <th>has_kids</th>\n",
       "    </tr>\n",
       "  </thead>\n",
       "  <tbody>\n",
       "    <tr>\n",
       "      <th>0</th>\n",
       "      <td>1</td>\n",
       "      <td>Yes</td>\n",
       "    </tr>\n",
       "    <tr>\n",
       "      <th>19577735</th>\n",
       "      <td>13915</td>\n",
       "      <td>Yes</td>\n",
       "    </tr>\n",
       "    <tr>\n",
       "      <th>19577745</th>\n",
       "      <td>13915</td>\n",
       "      <td>Yes</td>\n",
       "    </tr>\n",
       "    <tr>\n",
       "      <th>19577744</th>\n",
       "      <td>13915</td>\n",
       "      <td>Yes</td>\n",
       "    </tr>\n",
       "    <tr>\n",
       "      <th>19577743</th>\n",
       "      <td>13915</td>\n",
       "      <td>Yes</td>\n",
       "    </tr>\n",
       "  </tbody>\n",
       "</table>\n",
       "</div>"
      ],
      "text/plain": [
       "          user_id has_kids\n",
       "0               1      Yes\n",
       "19577735    13915      Yes\n",
       "19577745    13915      Yes\n",
       "19577744    13915      Yes\n",
       "19577743    13915      Yes"
      ]
     },
     "execution_count": 22,
     "metadata": {},
     "output_type": "execute_result"
    }
   ],
   "source": [
    "#repeat process for has_kids\n",
    "df_kids = df[['user_id', 'has_kids']].sort_values(by=['has_kids'], ascending=False)\n",
    "\n",
    "df_kids.head()"
   ]
  },
  {
   "cell_type": "code",
   "execution_count": 23,
   "id": "cb2fbddb",
   "metadata": {},
   "outputs": [
    {
     "data": {
      "text/plain": [
       "Yes    121904\n",
       "No      40727\n",
       "Name: has_kids, dtype: int64"
      ]
     },
     "execution_count": 23,
     "metadata": {},
     "output_type": "execute_result"
    }
   ],
   "source": [
    "#create kids df by unique user\n",
    "df_kids = df_kids.drop_duplicates(subset = ['user_id'])\n",
    "\n",
    "#check output\n",
    "df_kids['has_kids'].value_counts(dropna = False)"
   ]
  },
  {
   "cell_type": "code",
   "execution_count": 24,
   "id": "f3289d3b",
   "metadata": {},
   "outputs": [
    {
     "data": {
      "text/plain": [
       "pet_owner  has_babies  has_kids  spending_flag_ords\n",
       "No         No          Yes       High-spender          73692\n",
       "                       No        High-spender          31206\n",
       "           Yes         Yes       High-spender          19655\n",
       "           No          Yes       Regular-spender       13287\n",
       "Yes        No          Yes       High-spender           7263\n",
       "No         No          Yes       Low-spender            4614\n",
       "                       No        Regular-spender        4613\n",
       "Yes        No          No        High-spender           3116\n",
       "           Yes         Yes       High-spender           2192\n",
       "No         No          No        Low-spender            1640\n",
       "           Yes         Yes       Regular-spender         689\n",
       "Yes        No          Yes       Regular-spender         364\n",
       "                       No        Regular-spender         145\n",
       "No         Yes         Yes       Low-spender              60\n",
       "Yes        Yes         Yes       Regular-spender          56\n",
       "           No          Yes       Low-spender              31\n",
       "                       No        Low-spender               7\n",
       "           Yes         Yes       Low-spender               1\n",
       "dtype: int64"
      ]
     },
     "execution_count": 24,
     "metadata": {},
     "output_type": "execute_result"
    }
   ],
   "source": [
    "#make main df for customers\n",
    "df_cust = df_cust.merge(df_pets,how ='left').merge(df_babies,how ='left').merge(df_kids, how = 'left').merge(df_ords_flag,\n",
    "                                                                                                            how = 'left')\n",
    "\n",
    "df_cust.value_counts(['pet_owner', 'has_babies', 'has_kids', 'spending_flag_ords'])"
   ]
  },
  {
   "cell_type": "code",
   "execution_count": 25,
   "id": "d49cec1e",
   "metadata": {},
   "outputs": [
    {
     "data": {
      "text/plain": [
       "(162631, 41)"
      ]
     },
     "execution_count": 25,
     "metadata": {},
     "output_type": "execute_result"
    }
   ],
   "source": [
    "#check shape\n",
    "df_cust.shape"
   ]
  },
  {
   "cell_type": "code",
   "execution_count": 26,
   "id": "9ccc8b14",
   "metadata": {},
   "outputs": [
    {
     "data": {
      "text/html": [
       "<div>\n",
       "<style scoped>\n",
       "    .dataframe tbody tr th:only-of-type {\n",
       "        vertical-align: middle;\n",
       "    }\n",
       "\n",
       "    .dataframe tbody tr th {\n",
       "        vertical-align: top;\n",
       "    }\n",
       "\n",
       "    .dataframe thead th {\n",
       "        text-align: right;\n",
       "    }\n",
       "</style>\n",
       "<table border=\"1\" class=\"dataframe\">\n",
       "  <thead>\n",
       "    <tr style=\"text-align: right;\">\n",
       "      <th></th>\n",
       "      <th>order_id</th>\n",
       "      <th>user_id</th>\n",
       "      <th>order_number</th>\n",
       "      <th>order_day_of_week</th>\n",
       "      <th>time_of_order</th>\n",
       "      <th>days_since_prior_order</th>\n",
       "      <th>product_id</th>\n",
       "      <th>add_to_cart_order</th>\n",
       "      <th>reordered</th>\n",
       "      <th>product_name</th>\n",
       "      <th>...</th>\n",
       "      <th>income</th>\n",
       "      <th>region</th>\n",
       "      <th>activity_flag</th>\n",
       "      <th>age_category</th>\n",
       "      <th>income_category</th>\n",
       "      <th>department</th>\n",
       "      <th>pet_owner</th>\n",
       "      <th>has_babies</th>\n",
       "      <th>has_kids</th>\n",
       "      <th>spending_flag_ords</th>\n",
       "    </tr>\n",
       "  </thead>\n",
       "  <tbody>\n",
       "    <tr>\n",
       "      <th>0</th>\n",
       "      <td>2539329</td>\n",
       "      <td>1</td>\n",
       "      <td>1</td>\n",
       "      <td>2</td>\n",
       "      <td>8</td>\n",
       "      <td>NaN</td>\n",
       "      <td>196</td>\n",
       "      <td>1</td>\n",
       "      <td>0</td>\n",
       "      <td>Soda</td>\n",
       "      <td>...</td>\n",
       "      <td>40423</td>\n",
       "      <td>South</td>\n",
       "      <td>High-activity Customer</td>\n",
       "      <td>Young Adult</td>\n",
       "      <td>Low income</td>\n",
       "      <td>beverages</td>\n",
       "      <td>No</td>\n",
       "      <td>No</td>\n",
       "      <td>Yes</td>\n",
       "      <td>High-spender</td>\n",
       "    </tr>\n",
       "    <tr>\n",
       "      <th>1</th>\n",
       "      <td>2968173</td>\n",
       "      <td>15</td>\n",
       "      <td>15</td>\n",
       "      <td>1</td>\n",
       "      <td>9</td>\n",
       "      <td>7.0</td>\n",
       "      <td>196</td>\n",
       "      <td>2</td>\n",
       "      <td>0</td>\n",
       "      <td>Soda</td>\n",
       "      <td>...</td>\n",
       "      <td>54313</td>\n",
       "      <td>Midwest</td>\n",
       "      <td>High-activity Customer</td>\n",
       "      <td>Senior</td>\n",
       "      <td>Middle income</td>\n",
       "      <td>beverages</td>\n",
       "      <td>No</td>\n",
       "      <td>No</td>\n",
       "      <td>No</td>\n",
       "      <td>Low-spender</td>\n",
       "    </tr>\n",
       "    <tr>\n",
       "      <th>2</th>\n",
       "      <td>2293453</td>\n",
       "      <td>19</td>\n",
       "      <td>2</td>\n",
       "      <td>5</td>\n",
       "      <td>14</td>\n",
       "      <td>6.0</td>\n",
       "      <td>196</td>\n",
       "      <td>3</td>\n",
       "      <td>0</td>\n",
       "      <td>Soda</td>\n",
       "      <td>...</td>\n",
       "      <td>151988</td>\n",
       "      <td>South</td>\n",
       "      <td>High-activity Customer</td>\n",
       "      <td>Adult</td>\n",
       "      <td>Middle income</td>\n",
       "      <td>beverages</td>\n",
       "      <td>No</td>\n",
       "      <td>No</td>\n",
       "      <td>Yes</td>\n",
       "      <td>High-spender</td>\n",
       "    </tr>\n",
       "    <tr>\n",
       "      <th>3</th>\n",
       "      <td>1573906</td>\n",
       "      <td>21</td>\n",
       "      <td>10</td>\n",
       "      <td>3</td>\n",
       "      <td>10</td>\n",
       "      <td>6.0</td>\n",
       "      <td>196</td>\n",
       "      <td>2</td>\n",
       "      <td>0</td>\n",
       "      <td>Soda</td>\n",
       "      <td>...</td>\n",
       "      <td>124643</td>\n",
       "      <td>West</td>\n",
       "      <td>High-activity Customer</td>\n",
       "      <td>Senior</td>\n",
       "      <td>Middle income</td>\n",
       "      <td>beverages</td>\n",
       "      <td>No</td>\n",
       "      <td>No</td>\n",
       "      <td>No</td>\n",
       "      <td>High-spender</td>\n",
       "    </tr>\n",
       "    <tr>\n",
       "      <th>4</th>\n",
       "      <td>1593000</td>\n",
       "      <td>31</td>\n",
       "      <td>10</td>\n",
       "      <td>3</td>\n",
       "      <td>8</td>\n",
       "      <td>7.0</td>\n",
       "      <td>196</td>\n",
       "      <td>17</td>\n",
       "      <td>0</td>\n",
       "      <td>Soda</td>\n",
       "      <td>...</td>\n",
       "      <td>52311</td>\n",
       "      <td>South</td>\n",
       "      <td>High-activity Customer</td>\n",
       "      <td>Adult</td>\n",
       "      <td>Middle income</td>\n",
       "      <td>beverages</td>\n",
       "      <td>No</td>\n",
       "      <td>No</td>\n",
       "      <td>Yes</td>\n",
       "      <td>High-spender</td>\n",
       "    </tr>\n",
       "  </tbody>\n",
       "</table>\n",
       "<p>5 rows × 41 columns</p>\n",
       "</div>"
      ],
      "text/plain": [
       "   order_id  user_id  order_number  order_day_of_week  time_of_order  \\\n",
       "0   2539329        1             1                  2              8   \n",
       "1   2968173       15            15                  1              9   \n",
       "2   2293453       19             2                  5             14   \n",
       "3   1573906       21            10                  3             10   \n",
       "4   1593000       31            10                  3              8   \n",
       "\n",
       "   days_since_prior_order  product_id  add_to_cart_order  reordered  \\\n",
       "0                     NaN         196                  1          0   \n",
       "1                     7.0         196                  2          0   \n",
       "2                     6.0         196                  3          0   \n",
       "3                     6.0         196                  2          0   \n",
       "4                     7.0         196                 17          0   \n",
       "\n",
       "  product_name  ...  income   region           activity_flag age_category  \\\n",
       "0         Soda  ...   40423    South  High-activity Customer  Young Adult   \n",
       "1         Soda  ...   54313  Midwest  High-activity Customer       Senior   \n",
       "2         Soda  ...  151988    South  High-activity Customer        Adult   \n",
       "3         Soda  ...  124643     West  High-activity Customer       Senior   \n",
       "4         Soda  ...   52311    South  High-activity Customer        Adult   \n",
       "\n",
       "  income_category department pet_owner  has_babies has_kids  \\\n",
       "0      Low income  beverages        No          No      Yes   \n",
       "1   Middle income  beverages        No          No       No   \n",
       "2   Middle income  beverages        No          No      Yes   \n",
       "3   Middle income  beverages        No          No       No   \n",
       "4   Middle income  beverages        No          No      Yes   \n",
       "\n",
       "   spending_flag_ords  \n",
       "0        High-spender  \n",
       "1         Low-spender  \n",
       "2        High-spender  \n",
       "3        High-spender  \n",
       "4        High-spender  \n",
       "\n",
       "[5 rows x 41 columns]"
      ]
     },
     "execution_count": 26,
     "metadata": {},
     "output_type": "execute_result"
    }
   ],
   "source": [
    "df_cust.head()"
   ]
  },
  {
   "cell_type": "code",
   "execution_count": 27,
   "id": "ef4a7db6",
   "metadata": {},
   "outputs": [
    {
     "data": {
      "text/plain": [
       "Index(['order_id', 'user_id', 'order_number', 'order_day_of_week',\n",
       "       'time_of_order', 'days_since_prior_order', 'product_id',\n",
       "       'add_to_cart_order', 'reordered', 'product_name', 'aisle_id',\n",
       "       'department_id', 'prices', 'price_range_loc', 'busiest_day',\n",
       "       'busiest_days', 'busiest_period_of_day', 'max_order', 'loyalty_flag',\n",
       "       'avg_spent', 'spending_flag', 'median_days_since_last_order',\n",
       "       'freq_flag', 'first_name', 'last_name', 'gender', 'state', 'age',\n",
       "       'date_joined', 'number_dependents', 'family_status', 'income', 'region',\n",
       "       'activity_flag', 'age_category', 'income_category', 'department',\n",
       "       'pet_owner', 'has_babies', 'has_kids', 'spending_flag_ords'],\n",
       "      dtype='object')"
      ]
     },
     "execution_count": 27,
     "metadata": {},
     "output_type": "execute_result"
    }
   ],
   "source": [
    "df_cust.columns"
   ]
  },
  {
   "cell_type": "code",
   "execution_count": 28,
   "id": "9b5b6ef4",
   "metadata": {},
   "outputs": [],
   "source": [
    "#drop unnecessary columns\n",
    "\n",
    "df_cust.drop(columns = ['reordered', 'product_name', 'add_to_cart_order', 'busiest_day', 'aisle_id', 'department_id',\n",
    "             'busiest_days', 'busiest_period_of_day', 'first_name', 'last_name', 'date_joined'], index = 1,\n",
    "            inplace = True)"
   ]
  },
  {
   "cell_type": "code",
   "execution_count": 29,
   "id": "202684ad",
   "metadata": {},
   "outputs": [
    {
     "data": {
      "text/plain": [
       "Index(['order_id', 'user_id', 'order_number', 'order_day_of_week',\n",
       "       'time_of_order', 'days_since_prior_order', 'product_id', 'prices',\n",
       "       'price_range_loc', 'max_order', 'loyalty_flag', 'avg_spent',\n",
       "       'spending_flag', 'median_days_since_last_order', 'freq_flag', 'gender',\n",
       "       'state', 'age', 'number_dependents', 'family_status', 'income',\n",
       "       'region', 'activity_flag', 'age_category', 'income_category',\n",
       "       'department', 'pet_owner', 'has_babies', 'has_kids',\n",
       "       'spending_flag_ords'],\n",
       "      dtype='object')"
      ]
     },
     "execution_count": 29,
     "metadata": {},
     "output_type": "execute_result"
    }
   ],
   "source": [
    "df_cust.columns"
   ]
  },
  {
   "cell_type": "code",
   "execution_count": 30,
   "id": "c3679a58",
   "metadata": {},
   "outputs": [],
   "source": [
    "#export customers to avoid flags\n",
    "df_cust.to_pickle(os.path.join(path, '02 Data', 'Prepared Data', 'customer_subset.pkl'))"
   ]
  },
  {
   "cell_type": "code",
   "execution_count": 31,
   "id": "a1ae0965",
   "metadata": {},
   "outputs": [],
   "source": [
    "#reimport to avoid flags\n",
    "df_cust = pd.read_pickle(os.path.join(path, '02 Data', 'Prepared Data', 'customer_subset.pkl'))"
   ]
  },
  {
   "cell_type": "code",
   "execution_count": 32,
   "id": "725c7ec4",
   "metadata": {},
   "outputs": [
    {
     "data": {
      "text/plain": [
       "(162630, 30)"
      ]
     },
     "execution_count": 32,
     "metadata": {},
     "output_type": "execute_result"
    }
   ],
   "source": [
    "#check import\n",
    "df_cust.shape"
   ]
  },
  {
   "cell_type": "code",
   "execution_count": 33,
   "id": "d83e7982",
   "metadata": {},
   "outputs": [],
   "source": [
    "#create new column for pets and babies\n",
    "\n",
    "conditions = [\n",
    "    (df_cust['pet_owner'] == 'Yes') & (df_cust['has_babies'] == 'Yes'),\n",
    "    (df_cust['pet_owner'] == 'Yes') & (df_cust['has_babies'] == 'No'),\n",
    "    (df_cust['pet_owner'] == 'No') & (df_cust['has_babies'] == 'Yes'),\n",
    "    (df_cust['pet_owner'] == 'No') & (df_cust['has_babies'] == 'No'),\n",
    "]\n",
    "\n",
    "\n",
    "results = ['Has Both', 'Pets Only', 'Babies Only', 'Neither']\n",
    "\n",
    "\n",
    "df_cust['pets_babies'] = np.select(conditions, results)"
   ]
  },
  {
   "cell_type": "code",
   "execution_count": 34,
   "id": "969c7875",
   "metadata": {},
   "outputs": [
    {
     "data": {
      "text/plain": [
       "Neither        129051\n",
       "Babies Only     20404\n",
       "Pets Only       10926\n",
       "Has Both         2249\n",
       "Name: pets_babies, dtype: int64"
      ]
     },
     "execution_count": 34,
     "metadata": {},
     "output_type": "execute_result"
    }
   ],
   "source": [
    "#check new column\n",
    "\n",
    "df_cust['pets_babies'].value_counts(dropna = False)"
   ]
  },
  {
   "cell_type": "code",
   "execution_count": 35,
   "id": "b3ca1af4",
   "metadata": {},
   "outputs": [
    {
     "data": {
      "text/plain": [
       "Kids Only    111997\n",
       "Neither       37458\n",
       "Has Both       9907\n",
       "Pets Only      3268\n",
       "Name: pets_kids, dtype: int64"
      ]
     },
     "execution_count": 35,
     "metadata": {},
     "output_type": "execute_result"
    }
   ],
   "source": [
    "#create new column for kids and pets\n",
    "\n",
    "conditions = [\n",
    "    (df_cust['pet_owner'] == 'Yes') & (df_cust['has_kids'] == 'Yes'),\n",
    "    (df_cust['pet_owner'] == 'Yes') & (df_cust['has_kids'] == 'No'),\n",
    "    (df_cust['pet_owner'] == 'No') & (df_cust['has_kids'] == 'Yes'),\n",
    "    (df_cust['pet_owner'] == 'No') & (df_cust['has_kids'] == 'No'),\n",
    "]\n",
    "\n",
    "results = ['Has Both', 'Pets Only', 'Kids Only', 'Neither']\n",
    "df_cust['pets_kids'] = np.select(conditions, results)\n",
    "\n",
    "#check new column\n",
    "df_cust['pets_kids'].value_counts(dropna = False)"
   ]
  },
  {
   "cell_type": "code",
   "execution_count": 36,
   "id": "eb770010",
   "metadata": {},
   "outputs": [
    {
     "data": {
      "text/plain": [
       "High-spender       137124\n",
       "Regular-spender     19154\n",
       "Low-spender          6352\n",
       "Name: spending_flag_ords, dtype: int64"
      ]
     },
     "execution_count": 36,
     "metadata": {},
     "output_type": "execute_result"
    }
   ],
   "source": [
    "df_cust['spending_flag_ords'].value_counts()"
   ]
  },
  {
   "cell_type": "code",
   "execution_count": 37,
   "id": "21019b17",
   "metadata": {},
   "outputs": [
    {
     "data": {
      "text/plain": [
       "(162630, 32)"
      ]
     },
     "execution_count": 37,
     "metadata": {},
     "output_type": "execute_result"
    }
   ],
   "source": [
    "df_cust.shape"
   ]
  },
  {
   "cell_type": "markdown",
   "id": "c84a3256",
   "metadata": {},
   "source": [
    "### 05. Export Customer DF"
   ]
  },
  {
   "cell_type": "code",
   "execution_count": 38,
   "id": "e41acaed",
   "metadata": {},
   "outputs": [],
   "source": [
    "#export df of individual customer set\n",
    "df_cust.to_pickle(os.path.join(path, '02 Data', 'Prepared Data', 'unique_customers_final.pkl'))\n"
   ]
  },
  {
   "cell_type": "code",
   "execution_count": 39,
   "id": "a1c6ced2",
   "metadata": {},
   "outputs": [],
   "source": [
    "#export full df\n",
    "\n",
    "df.to_pickle(os.path.join(path, '02 Data', 'Prepared Data', 'full_set_with_flags.pkl'))\n"
   ]
  }
 ],
 "metadata": {
  "kernelspec": {
   "display_name": "Python 3 (ipykernel)",
   "language": "python",
   "name": "python3"
  },
  "language_info": {
   "codemirror_mode": {
    "name": "ipython",
    "version": 3
   },
   "file_extension": ".py",
   "mimetype": "text/x-python",
   "name": "python",
   "nbconvert_exporter": "python",
   "pygments_lexer": "ipython3",
   "version": "3.9.13"
  }
 },
 "nbformat": 4,
 "nbformat_minor": 5
}
